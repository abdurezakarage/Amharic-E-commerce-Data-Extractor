{
 "cells": [
  {
   "cell_type": "code",
   "execution_count": 1,
   "id": "7fc9fbd9",
   "metadata": {},
   "outputs": [
    {
     "name": "stderr",
     "output_type": "stream",
     "text": [
      "c:\\Users\\op\\AppData\\Local\\Programs\\Python\\Python313\\Lib\\site-packages\\tqdm\\auto.py:21: TqdmWarning: IProgress not found. Please update jupyter and ipywidgets. See https://ipywidgets.readthedocs.io/en/stable/user_install.html\n",
      "  from .autonotebook import tqdm as notebook_tqdm\n"
     ]
    }
   ],
   "source": [
    "import os\n",
    "import sys\n",
    "import pandas as pd\n",
    "from datasets import Sequence\n",
    "sys.path.append(os.path.abspath(os.path.join('..')))\n"
   ]
  },
  {
   "cell_type": "code",
   "execution_count": 2,
   "id": "4c248748",
   "metadata": {},
   "outputs": [
    {
     "name": "stdout",
     "output_type": "stream",
     "text": [
      "AmharicTrainer class imported successfully!\n"
     ]
    }
   ],
   "source": [
    "# Import the AmharicTrainer class from your custom module\n",
    "from src.services.amharic_trainer import AmharicTrainer\n",
    "\n",
    "print(\"AmharicTrainer class imported successfully!\")"
   ]
  },
  {
   "cell_type": "code",
   "execution_count": 3,
   "id": "0afdd527",
   "metadata": {},
   "outputs": [],
   "source": [
    "# Initialize the trainer with the desired model\n",
    "trainer_instance = AmharicTrainer(model_name=\"Davlan/afro-xlmr-base\")"
   ]
  },
  {
   "cell_type": "code",
   "execution_count": 4,
   "id": "6fce4ef1",
   "metadata": {},
   "outputs": [],
   "source": [
    "# Define the path to your CoNLL formatted dataset\n",
    "data_file_path = '../labeled/labeled_conll_output.txt'\n"
   ]
  },
  {
   "cell_type": "code",
   "execution_count": null,
   "id": "ca2f3281",
   "metadata": {},
   "outputs": [
    {
     "name": "stdout",
     "output_type": "stream",
     "text": [
      "Starting training for model: Davlan/afro-xlmr-base\n",
      "Step 1: Preparing data...\n"
     ]
    },
    {
     "name": "stderr",
     "output_type": "stream",
     "text": [
      "Casting the dataset: 100%|██████████| 28/28 [00:00<00:00, 488.33 examples/s]\n",
      "Casting the dataset: 100%|██████████| 8/8 [00:00<00:00, 1638.80 examples/s]"
     ]
    },
    {
     "name": "stdout",
     "output_type": "stream",
     "text": [
      "Data preparation complete.\n",
      "Step 2: Tokenizing and aligning labels for datasets...\n"
     ]
    },
    {
     "name": "stderr",
     "output_type": "stream",
     "text": [
      "\n",
      "Map: 100%|██████████| 28/28 [00:00<00:00, 103.93 examples/s]\n",
      "Map: 100%|██████████| 8/8 [00:00<00:00, 854.11 examples/s]\n"
     ]
    },
    {
     "name": "stdout",
     "output_type": "stream",
     "text": [
      "Tokenization and alignment complete.\n",
      "Step 3: Loading model and setting up training arguments...\n"
     ]
    },
    {
     "name": "stderr",
     "output_type": "stream",
     "text": [
      "c:\\Users\\op\\AppData\\Local\\Programs\\Python\\Python313\\Lib\\site-packages\\huggingface_hub\\file_download.py:143: UserWarning: `huggingface_hub` cache-system uses symlinks by default to efficiently store duplicated files but your machine does not support them in C:\\Users\\op\\.cache\\huggingface\\hub\\models--Davlan--afro-xlmr-base. Caching files will still work but in a degraded version that might require more space on your disk. This warning can be disabled by setting the `HF_HUB_DISABLE_SYMLINKS_WARNING` environment variable. For more details, see https://huggingface.co/docs/huggingface_hub/how-to-cache#limitations.\n",
      "To support symlinks on Windows, you either need to activate Developer Mode or to run Python as an administrator. In order to activate developer mode, see this article: https://docs.microsoft.com/en-us/windows/apps/get-started/enable-your-device-for-development\n",
      "  warnings.warn(message)\n"
     ]
    }
   ],
   "source": [
    "# Run the training and evaluation process\n",
    "print(f\"Starting training for model: {trainer_instance.model_name}\")\n",
    "results, trainer = trainer_instance.train_and_evaluate(\n",
    "    file_path=data_file_path,\n",
    "    output_dir=\"../labeled/amharic_ner_model\", # Output directory for checkpoints\n",
    "    num_train_epochs=3,\n",
    "    learning_rate=2e-5,\n",
    "    per_device_train_batch_size=8,\n",
    "    per_device_eval_batch_size=8\n",
    ")\n",
    "\n",
    "print(\"\\nTraining and Evaluation Complete!\")\n",
    "print(f\"Final Evaluation Results: {results}\")"
   ]
  }
 ],
 "metadata": {
  "kernelspec": {
   "display_name": "Python 3",
   "language": "python",
   "name": "python3"
  },
  "language_info": {
   "codemirror_mode": {
    "name": "ipython",
    "version": 3
   },
   "file_extension": ".py",
   "mimetype": "text/x-python",
   "name": "python",
   "nbconvert_exporter": "python",
   "pygments_lexer": "ipython3",
   "version": "3.13.3"
  }
 },
 "nbformat": 4,
 "nbformat_minor": 5
}
