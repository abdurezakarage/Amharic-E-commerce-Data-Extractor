{
 "cells": [
  {
   "cell_type": "code",
   "execution_count": 1,
   "metadata": {},
   "outputs": [],
   "source": [
    "import os\n",
    "import sys\n",
    "import pandas as pd\n",
    "project_root = os.path.abspath(os.path.join(os.getcwd(), '..'))\n",
    "src_dir = os.path.join(project_root, 'src')\n",
    "sys.path.append(src_dir)\n",
    "from services.preproccesser import TextProcessor"
   ]
  },
  {
   "cell_type": "code",
   "execution_count": 2,
   "metadata": {},
   "outputs": [
    {
     "name": "stdout",
     "output_type": "stream",
     "text": [
      "Found 1 CSV files to process:\n",
      "  - telegram_data.csv\n",
      "\n",
      "Processing: telegram_data.csv\n",
      "Using message column: 'Message'\n",
      "Cleaning and normalizing Amharic text...\n",
      "Tokenizing Amharic text...\n",
      "Preprocessed data successfully saved to CSV: e:\\AI\\Week-4\\Week-4 Project\\Amharic-E-commerce-Data-Extractor\\data\\processed\\processed_telegram_data.csv\n",
      "Preprocessed data successfully saved to JSON: e:\\AI\\Week-4\\Week-4 Project\\Amharic-E-commerce-Data-Extractor\\data\\processed\\processed_telegram_data.json\n",
      "\n",
      "Processing complete!\n",
      "Successfully processed: 1 files\n",
      "Failed to process: 0 files\n"
     ]
    },
    {
     "data": {
      "text/plain": [
       "True"
      ]
     },
     "execution_count": 2,
     "metadata": {},
     "output_type": "execute_result"
    }
   ],
   "source": [
    "dataalyzer = TextProcessor()\n",
    "dataalyzer.preprocess_data(process_directory=True, message_column=\"Message\")"
   ]
  },
  {
   "cell_type": "code",
   "execution_count": null,
   "metadata": {},
   "outputs": [],
   "source": [
    "df_processed = pd.read_csv(\"../data/processed/processed_telegram_data.csv\")\n",
    "df_processed.head(20)"
   ]
  }
 ],
 "metadata": {
  "kernelspec": {
   "display_name": "Python 3",
   "language": "python",
   "name": "python3"
  },
  "language_info": {
   "codemirror_mode": {
    "name": "ipython",
    "version": 3
   },
   "file_extension": ".py",
   "mimetype": "text/x-python",
   "name": "python",
   "nbconvert_exporter": "python",
   "pygments_lexer": "ipython3",
   "version": "3.13.3"
  }
 },
 "nbformat": 4,
 "nbformat_minor": 2
}
